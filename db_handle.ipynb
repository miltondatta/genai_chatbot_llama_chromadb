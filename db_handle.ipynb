{
 "cells": [
  {
   "cell_type": "code",
   "execution_count": 6,
   "metadata": {},
   "outputs": [],
   "source": [
    "from langchain_community.document_loaders import UnstructuredPDFLoader\n",
    "from langchain_community.document_loaders import DirectoryLoader\n",
    "from langchain_huggingface import HuggingFaceEmbeddings\n",
    "from langchain_text_splitters import CharacterTextSplitter\n",
    "from langchain_chroma import Chroma"
   ]
  },
  {
   "cell_type": "markdown",
   "metadata": {},
   "source": [
    "## Loading the Documents and Embeddings"
   ]
  },
  {
   "cell_type": "code",
   "execution_count": 7,
   "metadata": {},
   "outputs": [],
   "source": [
    "embeddings = HuggingFaceEmbeddings()\n",
    "loader = DirectoryLoader(path=\"data\",\n",
    "                         glob=\"./*.pdf\",\n",
    "                         loader_cls=UnstructuredPDFLoader)\n",
    "documents = loader.load()"
   ]
  },
  {
   "cell_type": "markdown",
   "metadata": {},
   "source": [
    "## Splitting the documents into chunks"
   ]
  },
  {
   "cell_type": "code",
   "execution_count": null,
   "metadata": {},
   "outputs": [],
   "source": [
    "text_splitter = CharacterTextSplitter(chunk_size=500, chunk_overlap=20)\n",
    "docs = text_splitter.split_documents(documents)"
   ]
  },
  {
   "cell_type": "markdown",
   "metadata": {},
   "source": [
    "## Uploading the chunked documents into ChromaDB"
   ]
  },
  {
   "cell_type": "code",
   "execution_count": 10,
   "metadata": {},
   "outputs": [],
   "source": [
    "import chromadb"
   ]
  },
  {
   "cell_type": "code",
   "execution_count": 11,
   "metadata": {},
   "outputs": [],
   "source": [
    "vectordb = Chroma.from_documents(\n",
    "    documents=docs,\n",
    "    embedding=embeddings,\n",
    "    persist_directory=\"vector_db_store\"\n",
    ")"
   ]
  },
  {
   "cell_type": "markdown",
   "metadata": {},
   "source": [
    "## Sample Query"
   ]
  },
  {
   "cell_type": "code",
   "execution_count": 12,
   "metadata": {},
   "outputs": [
    {
     "name": "stdout",
     "output_type": "stream",
     "text": [
      "[Document(metadata={'source': 'data\\\\Medical_book.pdf'}, page_content='DescriptionAllergies are among the most common of medicaldisorders. It is estimated that 60 million Americans,ormore than one in every five people,suffer from someform of allergy,with similar proportions throughoutmuch of the rest of the world. Allergy is the single largestreason for school absence and is a major source of lostproductivity in the workplace.An allergy is a type of immune reaction. Normally,the immune system responds to foreign microorganismsor particles by producing specific proteins called anti-bodies. These antibodies are capable of binding to iden-tifying molecules,or antigens,on the foreign particle.This reaction between antibody and antigen sets off aseries of chemical reactions designed to protect thebody from infection. Sometimes,this same series ofreactions is triggered by harmless,everyday substancessuch as pollen,dust,and animal danders. When thisoccurs,an allergy develops against the offending sub-stance (an allergen.)Mast cells,one of the major players in allergic reac-tions,capture and display a particular type of antibody,called immunoglobulin type E (IgE) that binds to aller-gens. Inside mast cells are small chemical-filled packetscalled granules. Granules contain a variety of potentchemicals,including histamine.Immunologists separate allergic reactions into twomain types:immediate hypersensitivity reactions,whichare predominantly mast cell-mediated and occur withinminutes of contact with allergen; and delayed hypersen-sitivity reactions,mediated by T cells (a type of whiteblood cells) and occurring hours to days after exposure.Inhaled or ingested allergens usually cause immedi-ate hypersensitivity reactions. Allergens bind to IgE anti-bodies on the surface of mast cells,which spill the con-tents of their granules out onto neighboring cells,includ-ing blood vessels and nerve cells. Histamine binds to thesurfaces of these other cells through special proteinscalled histamine receptors. Interaction of histamine withreceptors on blood vessels causes increased leakiness,leading to the fluid collection,swelling and increasedredness. Histamine also stimulates painreceptors,mak-ing tissue more sensitive and irritable. Symptoms lastfrom one to several hours following contact.In the upper airways and eyes,immediate hypersen-sitivity reactions cause the runny nose and itchy,blood-shot eyes typical of allergic rhinitis. In the gastrointesti-nal tract,these reactions lead to swelling and irritation ofthe intestinal lining,which causes the cramping anddiarrheatypical of food allergy. Allergens that enter thecirculation may cause hives,angioedema,anaphylaxis,or atopic dermatitis.Allergens on the skin usually cause delayed hyper-sensitivity reaction. Roving T cells contact the allergen,setting in motion a more prolonged immune response.This type of allergic response may develop over severaldays following contact with the allergen,and symptomsmay persist for a week or more.Causes and symptomsAllergens enter the body through four main routes:the airways,the skin,the gastrointestinal tract,and thecirculatory system.•Airborne allergens cause the sneezing,runny nose,and itchy,bloodshot eyes of hay fever(allergic rhini-tis). Airborne allergens can also affect the lining of thelungs,causing asthma,or the conjunctiva of the eyes,causing conjunctivitis(pink eye). Exposure to cock-roach allergans have been associated with the devel-opment of asthma. Airborne allergans from householdpets are another common source of environmentalexposure.•Allergens in food can cause itchingand swelling of thelips and throat,cramps,and diarrhea. When absorbedinto the bloodstream,they may cause hives (urticaria)or more severe reactions involving recurrent,non-inflammatory swelling of the skin,mucous membranes,organs,and brain (angioedema). Some food allergensmay cause anaphylaxis,a potentially life-threateningcondition marked by tissue swelling,airwayconstric-tion,and drop in blood pressure. Allergies to foods suchcow’s milk,eggs,nuts,fish,and legumes (peanuts andsoybeans) are common. Allergies to fruits and vegeta-bles may also occur.•In contact with the skin,allergens can cause redden-ing,itching,and blistering,called contact dermatitis.Skin reactions can also occur from allergens intro-duced through the airways or gastrointestinal tract.This type of reaction is known as atopic dermatitis.Dermatitis may arise from an allergic response (suchas from poison ivy),or exposure to an irritant causingnonimmune damage to skin cells (such as soap,cold,and chemical agents).•Injection of allergens,from insect bites and stingsordrug administration,can introduce allergens directlyinto the circulation,where they may cause system-wideresponses (including anaphylaxis),as well as the localones of swelling and irritation at the injection site.People with allergies are not equally sensitive toall allergens. Some may have severe allergic rhinitisbut no food allergies,for instance,or be extremely sen-GALE ENCYCLOPEDIA OF MEDICINE 2115Allergies'), Document(metadata={'source': 'data\\\\Medical_book.pdf'}, page_content='Allergy testsDefinitionAllergy tests indicate a person’s allergic sensitivityto commonly encountered environmental substances.PurposeAllergy is a reaction of the immune system. Nor-mally,the immune system responds to foreign microor-ganisms and particles,like pollen or dust,by producingspecific proteins called antibodies that are capable ofbinding to identifying molecules,or antigens,on theforeign organisms. This reaction between antibody andantigen sets off a series of reactions designed to protectthe body from infection. Sometimes,this same series ofreactions is triggered by harmless,everyday substances.This is the condition known as allergy,and the offend-ing substance is called an allergen. Common inhaledallergens include pollen,dust,and insect parts from tinyhouse mites. Common food allergens include nuts,fish,and milk.Allergic reactions involve a special set of cells inthe immune system known as mast cells. Mast cellsserve as guards in the tissues where the body meets theoutside world:the skin,the mucous membranes of theeyes and other areas,and the linings of the respiratoryand digestive systems. Mast cells display a special typeof antibody,called immunoglobulin type E (IgE),ontheir surface. Inside,mast cells store reactive chemicalsin small packets,called granules. When the antibodiesencounter allergens,they trigger the release of granules,which spill out their chemicals onto neighboring cells,including blood vessels and nerve cells. One of thesechemicals,histamine,binds to the surfaces of theseother cells,through special proteins called histaminereceptors. Interaction of histamine with receptors onblood vessels causes neighboring cells to become leaky,leading to the fluid collection,swelling,and increasedredness characteristic of a runny nose and red,irritatedeyes. Histamine also stimulates painreceptors,causingthe itchy,scratchy nose,eyes,and throat common inallergic rhinitis.The particular allergens to which a person is sensi-tive can be determined through allergy testing. Allergytests may be performed on the skin or using blood serumin a test tube. During skin tests,potential allergens areplaced on the skin and the reaction is observed. In radio-allergosorbent allergy testing (RAST),a patient’s bloodserum is combined with allergen in a test tube to deter-mine if serum antibodies react with the allergen. Provo-cation testing involves direct exposure to a likely aller-'), Document(metadata={'source': 'data\\\\Medical_book.pdf'}, page_content='GALE ENCYCLOPEDIA OF MEDICINE 2114Allergies\\n\\nAllergiesDefinitionAllergies are abnormal reactions of the immune sys-tem that occur in response to otherwise harmless sub-stances.')]\n"
     ]
    }
   ],
   "source": [
    "query = \"What are Allergies\"\n",
    "result =vectordb.similarity_search(query=query,k=3)\n",
    "print(result)"
   ]
  }
 ],
 "metadata": {
  "kernelspec": {
   "display_name": "bot",
   "language": "python",
   "name": "python3"
  },
  "language_info": {
   "codemirror_mode": {
    "name": "ipython",
    "version": 3
   },
   "file_extension": ".py",
   "mimetype": "text/x-python",
   "name": "python",
   "nbconvert_exporter": "python",
   "pygments_lexer": "ipython3",
   "version": "3.12.7"
  }
 },
 "nbformat": 4,
 "nbformat_minor": 2
}
